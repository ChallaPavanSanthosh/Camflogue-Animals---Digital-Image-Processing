{
 "cells": [
  {
   "cell_type": "code",
   "execution_count": null,
   "id": "2527958e",
   "metadata": {},
   "outputs": [],
   "source": [
    "import os\n",
    "import cv2\n",
    "import numpy as np\n",
    "import xml.etree.ElementTree as ET\n",
    "\n",
    "def parse_pascal_voc_xml(label_path):\n",
    "    tree = ET.parse(label_path)\n",
    "    root = tree.getroot()\n",
    "    # Find the object tag and extract label\n",
    "    label = []\n",
    "    for obj in root.findall('object'):\n",
    "        for i in obj.findall('bndbox'):\n",
    "            xmin =float(i.find('xmin').text)\n",
    "            ymin =float(i.find('ymin').text)\n",
    "            xmax =float(i.find('xmax').text)\n",
    "            ymax =float(i.find('ymax').text)\n",
    "        \n",
    "    \n",
    "    return xmin,ymin,xmax,ymax\n",
    "\n",
    "def load_images_and_labels(image_folder_path, label_folder_path):\n",
    "    images = []\n",
    "    labels = []\n",
    "\n",
    "    # Load images\n",
    "    for image_file in os.listdir(image_folder_path):\n",
    "        image_path = os.path.join(image_folder_path, image_file)\n",
    "        if image_file.endswith(\".jpg\") or image_file.endswith(\".png\"):  # Adjust based on your image formats\n",
    "            image = cv2.imread(image_path)\n",
    "            if image is not None:\n",
    "                images.append(image)\n",
    "\n",
    "    # Load labels\n",
    "    for label_file in os.listdir(label_folder_path):\n",
    "        label_path = os.path.join(label_folder_path, label_file)\n",
    "        if label_file.endswith(\".xml\"):  # Adjust based on your label file format\n",
    "            label = parse_pascal_voc_xml(label_path)\n",
    "            labels.append(list(label))\n",
    "\n",
    "    return images, labels\n",
    "\n",
    "# Example usage:\n",
    "image_folder_path = r\"C:\\Users\\HP\\OneDrive\\Desktop\\github\\Camflogue Animals - Digital Image Processing\\images\"\n",
    "label_folder_path = r\"C:\\Users\\HP\\OneDrive\\Desktop\\github\\Camflogue Animals - Digital Image Processing\\labels\"\n",
    "images, labels = load_images_and_labels(image_folder_path, label_folder_path)"
   ]
  },
  {
   "cell_type": "code",
   "execution_count": null,
   "id": "3fe4e85b",
   "metadata": {},
   "outputs": [],
   "source": [
    "type(labels)"
   ]
  },
  {
   "cell_type": "code",
   "execution_count": null,
   "id": "538ebaef",
   "metadata": {},
   "outputs": [],
   "source": [
    "images=np.array(images)\n",
    "labels=np.array(labels)"
   ]
  },
  {
   "cell_type": "code",
   "execution_count": null,
   "id": "89591d80",
   "metadata": {},
   "outputs": [],
   "source": [
    "type(labels)"
   ]
  },
  {
   "cell_type": "code",
   "execution_count": null,
   "id": "eb2cd600",
   "metadata": {},
   "outputs": [],
   "source": [
    "import tensorflow as tf\n",
    "from sklearn.model_selection import train_test_split"
   ]
  },
  {
   "cell_type": "code",
   "execution_count": null,
   "id": "e60410c5",
   "metadata": {},
   "outputs": [],
   "source": [
    "X_train, X_test, y_train, y_test = train_test_split(images, labels, test_size=0.2, random_state=42)"
   ]
  },
  {
   "cell_type": "code",
   "execution_count": null,
   "id": "31bd7766",
   "metadata": {},
   "outputs": [],
   "source": [
    "X_train"
   ]
  },
  {
   "cell_type": "code",
   "execution_count": null,
   "id": "d02186e9",
   "metadata": {},
   "outputs": [],
   "source": [
    "y_train"
   ]
  },
  {
   "cell_type": "code",
   "execution_count": null,
   "id": "132a326e",
   "metadata": {},
   "outputs": [],
   "source": [
    "X_train=tf.cast(X_train, dtype=tf.int32)\n",
    "X_test=tf.cast(X_test, dtype=tf.int32)\n",
    "y_train=tf.cast(y_train, dtype=tf.int32)\n",
    "y_test=tf.cast(y_test, dtype=tf.int32)"
   ]
  },
  {
   "cell_type": "code",
   "execution_count": null,
   "id": "317c92a4",
   "metadata": {},
   "outputs": [],
   "source": [
    "X_train.shape"
   ]
  },
  {
   "cell_type": "code",
   "execution_count": null,
   "id": "3ab22c27",
   "metadata": {},
   "outputs": [],
   "source": [
    "y_train.shape"
   ]
  },
  {
   "cell_type": "code",
   "execution_count": null,
   "id": "3c681f3a",
   "metadata": {},
   "outputs": [],
   "source": [
    "X_test.shape"
   ]
  },
  {
   "cell_type": "code",
   "execution_count": null,
   "id": "a4c868c9",
   "metadata": {},
   "outputs": [],
   "source": [
    "y_test.shape"
   ]
  },
  {
   "cell_type": "code",
   "execution_count": null,
   "id": "356aa13c",
   "metadata": {},
   "outputs": [],
   "source": [
    "from tensorflow.keras.preprocessing.image import ImageDataGenerator"
   ]
  },
  {
   "cell_type": "code",
   "execution_count": null,
   "id": "e0f3142e",
   "metadata": {},
   "outputs": [],
   "source": [
    "train_datagen = ImageDataGenerator(rescale=1./255, rotation_range=20, width_shift_range=0.2, height_shift_range=0.2,\n",
    "                                   shear_range=0.2, zoom_range=0.2, horizontal_flip=True)\n",
    "train_datagen.fit(X_train)"
   ]
  },
  {
   "cell_type": "code",
   "execution_count": null,
   "id": "770d7129",
   "metadata": {},
   "outputs": [],
   "source": [
    "image_height=416\n",
    "image_width=416\n",
    "num_classes=4"
   ]
  },
  {
   "cell_type": "code",
   "execution_count": null,
   "id": "6c376acd",
   "metadata": {},
   "outputs": [],
   "source": [
    "from tensorflow.keras import models, layers"
   ]
  },
  {
   "cell_type": "code",
   "execution_count": null,
   "id": "9021ab93",
   "metadata": {},
   "outputs": [],
   "source": [
    "model = tf.keras.models.Sequential([\n",
    "    tf.keras.layers.Conv2D(32, (9, 9), activation='relu', input_shape=(image_height, image_width, 3)),\n",
    "    tf.keras.layers.Conv2D(32, (9, 9), activation='relu'),\n",
    "    tf.keras.layers.MaxPooling2D((2, 2)),\n",
    "    tf.keras.layers.Conv2D(64, (3, 3), activation='relu'),\n",
    "    tf.keras.layers.Conv2D(64, (3, 3), activation='relu'),\n",
    "    tf.keras.layers.MaxPooling2D((2, 2)),\n",
    "    tf.keras.layers.MaxPooling2D((2, 2)),\n",
    "    tf.keras.layers.Conv2D(64, (3, 3), activation='relu'),\n",
    "    tf.keras.layers.Flatten(),\n",
    "    tf.keras.layers.Dense(128, activation='relu'),\n",
    "    tf.keras.layers.Dense(64, activation='relu'),\n",
    "    tf.keras.layers.Dense(num_classes, activation='linear'),\n",
    "])\n",
    "model.summary()"
   ]
  },
  {
   "cell_type": "code",
   "execution_count": null,
   "id": "a3b8b211",
   "metadata": {},
   "outputs": [],
   "source": [
    "model.compile(optimizer='adam',\n",
    "              loss='mean_squared_error',\n",
    "              metrics=['accuracy'])"
   ]
  },
  {
   "cell_type": "code",
   "execution_count": null,
   "id": "5ed0d0d2",
   "metadata": {},
   "outputs": [],
   "source": [
    "from tensorflow.keras.optimizers import Adam\n",
    "\n",
    "optimizer = Adam(learning_rate=0.00001)\n",
    "\n",
    "model.compile(optimizer=optimizer,\n",
    "              loss='mean_squared_error', \n",
    "              metrics=['accuracy'])"
   ]
  },
  {
   "cell_type": "code",
   "execution_count": null,
   "id": "ddd764d2",
   "metadata": {},
   "outputs": [],
   "source": [
    "model.fit(train_datagen.flow(X_train, y_train, batch_size=64),\n",
    "                    steps_per_epoch=int(len(X_train) / 64), epochs=10, validation_data=(X_test, y_test))"
   ]
  },
  {
   "cell_type": "code",
   "execution_count": null,
   "id": "5b9b30c0",
   "metadata": {},
   "outputs": [],
   "source": []
  }
 ],
 "metadata": {
  "kernelspec": {
   "display_name": "Python 3 (ipykernel)",
   "language": "python",
   "name": "python3"
  },
  "language_info": {
   "codemirror_mode": {
    "name": "ipython",
    "version": 3
   },
   "file_extension": ".py",
   "mimetype": "text/x-python",
   "name": "python",
   "nbconvert_exporter": "python",
   "pygments_lexer": "ipython3",
   "version": "3.11.5"
  }
 },
 "nbformat": 4,
 "nbformat_minor": 5
}
